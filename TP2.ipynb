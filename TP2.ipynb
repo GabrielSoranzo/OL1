{
 "cells": [
  {
   "cell_type": "markdown",
   "metadata": {},
   "source": [
    "# TP2: traitement du signal"
   ]
  },
  {
   "cell_type": "markdown",
   "metadata": {},
   "source": [
    "Le document que vous venez d'ouvrir s'appelle un **Notebook**. C'est un certain type de document. Son extension est .ipynb (pour **I**-**Py**thon **N**ote**b**ook). \n",
    "L'éditeur qui entoure ce document s'appelle **Jupyter**. C'est un descendant de la console Python que l'on voit dans Spyder ou Repl.it."
   ]
  },
  {
   "cell_type": "markdown",
   "metadata": {},
   "source": [
    "Sur un Notebook on peut taper du texte dans une syntaxe simplifiée du HTML (le langage des pages WEB) et l'on peut également taper du code en Python (ou dans d'autres langages)."
   ]
  },
  {
   "cell_type": "markdown",
   "metadata": {},
   "source": [
    "Par exemple, tapez dans la cellule de code ci-dessous le code Python pour afficher \"Hello World\".\n",
    "\n",
    "Une fois que vous avez tapez le code, vous pouvez l'executer en tapant **MAJ**+**Entrée**."
   ]
  },
  {
   "cell_type": "code",
   "execution_count": 1,
   "metadata": {},
   "outputs": [
    {
     "name": "stdout",
     "output_type": "stream",
     "text": [
      "Hello World\n"
     ]
    }
   ],
   "source": [
    "print(\"Hello World\")"
   ]
  },
  {
   "cell_type": "markdown",
   "metadata": {},
   "source": [
    "Vous pouvez modifier une cellule de code que vous avez déjà exécutée et la réexécuter à nouver.\n",
    "\n",
    "Par exemple modifiez la cellule de code ci-dessus pour lui faire afficher maintenant \"Bonjour tout le monde\"."
   ]
  },
  {
   "cell_type": "code",
   "execution_count": null,
   "metadata": {},
   "outputs": [],
   "source": []
  }
 ],
 "metadata": {
  "kernelspec": {
   "display_name": "Python 3",
   "language": "python",
   "name": "python3"
  },
  "language_info": {
   "codemirror_mode": {
    "name": "ipython",
    "version": 3
   },
   "file_extension": ".py",
   "mimetype": "text/x-python",
   "name": "python",
   "nbconvert_exporter": "python",
   "pygments_lexer": "ipython3",
   "version": "3.8.5"
  }
 },
 "nbformat": 4,
 "nbformat_minor": 4
}
