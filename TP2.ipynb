{
 "cells": [
  {
   "cell_type": "markdown",
   "metadata": {},
   "source": [
    "# TP2: étude des signaux"
   ]
  },
  {
   "cell_type": "markdown",
   "metadata": {},
   "source": [
    "Le document que vous venez d'ouvrir s'appelle un **Notebook**. C'est un certain type de document. Son extension est .ipynb (pour **I**-**Py**thon **N**ote**b**ook). \n",
    "L'éditeur qui entoure ce document s'appelle **Jupyter**. C'est un descendant de la console Python que l'on voit dans Spyder ou Repl.it."
   ]
  },
  {
   "cell_type": "markdown",
   "metadata": {},
   "source": [
    "Sur un Notebook on peut taper du texte dans une syntaxe simplifiée du HTML (le langage des pages WEB) et l'on peut également taper du code en Python (ou dans d'autres langages)."
   ]
  },
  {
   "cell_type": "markdown",
   "metadata": {},
   "source": [
    "Par exemple, tapez dans la cellule de code ci-dessous le code Python pour afficher \"Hello World\".\n",
    "\n",
    "Une fois que vous avez tapez le code, vous pouvez l'executer en tapant **MAJ**+**Entrée**."
   ]
  },
  {
   "cell_type": "code",
   "execution_count": 5,
   "metadata": {},
   "outputs": [
    {
     "name": "stdout",
     "output_type": "stream",
     "text": [
      "Bonjour tout le monde\n"
     ]
    }
   ],
   "source": [
    "print(\"Bonjour tout le monde\")\n",
    "ma_variable=1"
   ]
  },
  {
   "cell_type": "markdown",
   "metadata": {},
   "source": [
    "Vous pouvez modifier une cellule de code que vous avez déjà exécutée et la réexécuter à nouver.\n",
    "\n",
    "Par exemple modifiez la cellule de code ci-dessus pour lui faire afficher maintenant \"Bonjour tout le monde\".\n",
    "\n",
    "Une dernière chose importante à comprendre c'est que les variables continue d'exister en dehors de chaque cellule de code. Par exemple modifiez à nouveau la cellule de code ci-dessus et affectezla valeur  `1` à la variable `ma_variable`."
   ]
  },
  {
   "cell_type": "markdown",
   "metadata": {},
   "source": [
    "Affichez maintenant la valeur de la variable `ma_variable` en faisant écrivant `print` dans la cellule ci-dessous:"
   ]
  },
  {
   "cell_type": "code",
   "execution_count": 11,
   "metadata": {},
   "outputs": [
    {
     "name": "stdout",
     "output_type": "stream",
     "text": [
      "1\n"
     ]
    }
   ],
   "source": [
    "print(ma_variable)"
   ]
  },
  {
   "cell_type": "markdown",
   "metadata": {},
   "source": [
    "Comme nous l'avons dit ci-dessus il est églament possible d'écrire du text dans un notebook.\n",
    "En double cliquant sur le text ci-dessous, ecrivez vos Nom, Prénom, Groupe et Date:"
   ]
  },
  {
   "cell_type": "markdown",
   "metadata": {},
   "source": []
  },
  {
   "cell_type": "markdown",
   "metadata": {},
   "source": [
    "Une dernière chose avant de commencer: si vous êtes en accès à distance (c'est-à-dire que vous n'avez rien installé sur votre ordinateur pour visualiser ce document) alors il faut penser à faire une copie locale de ce que vous avez tapé. Pour ce faire il convient de cliquer sur le bouton download:\n",
    "\n",
    "![DownloadUrl](https://github.com/GabrielSoranzo/OL1/raw/main/download.gif \"Download\")"
   ]
  },
  {
   "cell_type": "markdown",
   "metadata": {},
   "source": [
    "Pensez à faire ce geste à chaque fois que vous avez finin de compléter une question!\n",
    "\n",
    "Le fichier que vous aurez à soumettre est ce notebook (le document que vous avez sous les yeux), que vous aurez à compléter."
   ]
  },
  {
   "cell_type": "markdown",
   "metadata": {},
   "source": [
    "## 1) Les tableaux en Python"
   ]
  },
  {
   "cell_type": "markdown",
   "metadata": {},
   "source": [
    "Nous allons tout d'abord apprendre à gérer les tableau sous Python."
   ]
  },
  {
   "cell_type": "markdown",
   "metadata": {},
   "source": [
    "Voici plusieurs exemples de tableau"
   ]
  },
  {
   "cell_type": "code",
   "execution_count": 20,
   "metadata": {},
   "outputs": [],
   "source": [
    "tab_nb=[1,2,3,4,5,6]\n",
    "tab_jours=[\"lundi\",\"mardi\",\"mercredi\"]\n",
    "tab_misc=[2,\"lundi\",True,3.14]"
   ]
  },
  {
   "cell_type": "markdown",
   "metadata": {},
   "source": [
    "Le premier tableau contient des nombres entiers, le second des chaînes de caractères et le dernier un mélange."
   ]
  },
  {
   "cell_type": "markdown",
   "metadata": {},
   "source": [
    "On peut ensuite demander une valeur d'un de ces tableaux de la manière suivante:"
   ]
  },
  {
   "cell_type": "code",
   "execution_count": 21,
   "metadata": {},
   "outputs": [
    {
     "name": "stdout",
     "output_type": "stream",
     "text": [
      "2\n",
      "mercredi\n",
      "3.14\n"
     ]
    }
   ],
   "source": [
    "print(tab_nb[1])\n",
    "print(tab_jours[2])\n",
    "print(tab_misc[3])"
   ]
  },
  {
   "cell_type": "markdown",
   "metadata": {},
   "source": [
    "**Question:**: Que remarque-t-on concernant les indices des tableaux?"
   ]
  },
  {
   "cell_type": "markdown",
   "metadata": {},
   "source": []
  },
  {
   "cell_type": "markdown",
   "metadata": {},
   "source": [
    "On peut ensuite parcourir une liste avec le mot clé `for`.\n",
    "\n",
    "**Question:** en vous reportant par exemple au lien [suivant](https://www.w3schools.com/python/python_for_loops.asp#:~:text=A%20for%20loop%20is%20used,other%20object%2Dorientated%20programming%20languages.) (et en complétant le tableau des jours) écrivez une boucle `for` qui va écrire les 7 jours de la semaine les uns en dessous des autres."
   ]
  },
  {
   "cell_type": "code",
   "execution_count": null,
   "metadata": {},
   "outputs": [],
   "source": []
  },
  {
   "cell_type": "markdown",
   "metadata": {},
   "source": [
    "**Question:** en vous reportant au besoin au même lien, et en utilisant la fonction `range`, compléter la cellule de code ci-dessous afin qu'elle affiche:<br>\n",
    "`passage numero 1 dans la boucle`<br>\n",
    "`passage numero 2 dans la boucle`<br>\n",
    "... <br>\n",
    "`passage numero 10  dans la boucle`"
   ]
  },
  {
   "cell_type": "code",
   "execution_count": null,
   "metadata": {},
   "outputs": [],
   "source": []
  },
  {
   "cell_type": "markdown",
   "metadata": {},
   "source": [
    "Dans la suite de ce TP nous allons utiliser de nombreux tableaux qui auront la spécificité de ne contenir que des nombres. Ce genre de tableau peut être géré de manière plus rapide que les tableaux de base de Python avec la bilbiothèque Numpy.\n",
    "\n",
    "La cellule suivante va créer un tableau numpy:"
   ]
  },
  {
   "cell_type": "code",
   "execution_count": 15,
   "metadata": {},
   "outputs": [
    {
     "name": "stdout",
     "output_type": "stream",
     "text": [
      "2.0\n"
     ]
    }
   ],
   "source": [
    "import numpy # Ici on importe la bibliothèque numpy\n",
    "\n",
    "tab_nb=numpy.array([3,6,2,3.2,7.1,8,3]) # Ici on crée un tableau\n",
    "\n",
    "print(tab_nb[2])"
   ]
  },
  {
   "cell_type": "markdown",
   "metadata": {},
   "source": [
    "Nous avons utilisez ici la fonction `array`, qui étant dans la bibliothèque numpy doit être précédée de `numpy.`\n",
    "\n",
    "Il est assez laborieux d'écrire toujours `numpy.`. C'est pourquoi on créer en général un **alias** au nom `numpy` en procédant de la manière suivante:"
   ]
  },
  {
   "cell_type": "code",
   "execution_count": 19,
   "metadata": {},
   "outputs": [
    {
     "name": "stdout",
     "output_type": "stream",
     "text": [
      "2.0\n"
     ]
    }
   ],
   "source": [
    "import numpy as np # Ici on importe la bibliothèque numpy est créer l'alias np pour numpy\n",
    "\n",
    "tab_nb=np.array([3,6,2,3.2,7.1,8,3]) # On utilise l'alias np à la place de numpy\n",
    "\n",
    "print(tab_nb[2])"
   ]
  },
  {
   "cell_type": "markdown",
   "metadata": {},
   "source": [
    "Voici une nouvelle cellule de code:"
   ]
  },
  {
   "cell_type": "code",
   "execution_count": 24,
   "metadata": {},
   "outputs": [
    {
     "name": "stdout",
     "output_type": "stream",
     "text": [
      "[1.   1.21 1.44 1.69 1.96 2.25 2.56 2.89 3.24 3.61]\n"
     ]
    }
   ],
   "source": [
    "import numpy as np\n",
    "\n",
    "x=np.arange(1,2,0.1)\n",
    "y=x**2\n",
    "\n",
    "print(y)"
   ]
  },
  {
   "cell_type": "markdown",
   "metadata": {},
   "source": [
    "**Question**: expliquer ci-dessous ce que fait la fonction np.arange et le rôle des trois arguments:"
   ]
  },
  {
   "cell_type": "markdown",
   "metadata": {},
   "source": []
  },
  {
   "cell_type": "markdown",
   "metadata": {},
   "source": [
    "**Question**: expliquer ce que fait l'opérateur `**2`:"
   ]
  },
  {
   "cell_type": "markdown",
   "metadata": {},
   "source": []
  },
  {
   "cell_type": "markdown",
   "metadata": {},
   "source": [
    "**Question**: en utilisant la même procédé, afficher les valeurs de la fonction $f(x)=3x^2-4x+2$ en $4$ et $7$ avec un pas de $0,2$."
   ]
  },
  {
   "cell_type": "code",
   "execution_count": null,
   "metadata": {},
   "outputs": [],
   "source": []
  },
  {
   "cell_type": "markdown",
   "metadata": {},
   "source": [
    "**Question:** idem avec la fonction $g(t)=\\cos(200\\pi t)$ pour $t$ entre $0$ et $1,2$ avec un pas de $0,1$. Attention il faudra utiliser la fonction `np.cos` et non `math.cos`."
   ]
  },
  {
   "cell_type": "code",
   "execution_count": null,
   "metadata": {},
   "outputs": [],
   "source": []
  },
  {
   "cell_type": "markdown",
   "metadata": {},
   "source": [
    "Pour fabriquer les listes pour des variables nous avons utilisé la fonction `np.arange` (voir ligne 3 du code d'exemple ci-dessus). La fonction `np.linspace` est également souvent utilisée.\n",
    "\n",
    "**Question:** Au besoin en faisant quelques recherches sur internet sur la fonction `np.linspace` (la [documentation officielle](https://numpy.org/doc/stable/index.html#) de Numpy est très bien), afficher les valeurs de la fonction $f(x)=\\mathrm{exp}(-2x)$ en $0$ et $2,7$ avec $1000$ points régulièrement répartis (on dira que l'on a **échantilloné** la fonction en 1000 points)."
   ]
  },
  {
   "cell_type": "code",
   "execution_count": null,
   "metadata": {},
   "outputs": [],
   "source": []
  },
  {
   "cell_type": "markdown",
   "metadata": {},
   "source": [
    "## 2) Les graphiques en Python"
   ]
  },
  {
   "cell_type": "markdown",
   "metadata": {},
   "source": [
    "Voici un premier exemple de tracer de graphique en Python. Regardez bien, modifiez le au besoin et/ou faîtes quelques recherches sur interner afin de comprendre ce code et répondre aux questions qui le suivent:"
   ]
  },
  {
   "cell_type": "code",
   "execution_count": 1,
   "metadata": {},
   "outputs": [
    {
     "data": {
      "image/png": "[encoded data removed]",
      "text/plain": [
       "<Figure size 432x288 with 1 Axes>"
      ]
     },
     "metadata": {
      "needs_background": "light"
     },
     "output_type": "display_data"
    }
   ],
   "source": [
    "import matplotlib.pyplot as plt\n",
    "\n",
    "plt.plot([1,2,3,4],[1,5,3,0])\n",
    "\n",
    "plt.show()"
   ]
  },
  {
   "cell_type": "markdown",
   "metadata": {},
   "source": [
    "**Question:** Expliquer ce que fait la ligne 1. En quoi est-elle nécessaire à la suite du programme?"
   ]
  },
  {
   "cell_type": "markdown",
   "metadata": {},
   "source": []
  },
  {
   "cell_type": "markdown",
   "metadata": {},
   "source": [
    "**Question:** Expliquer dans le détail la ligne 3, en particulier à quoi servent les deux listes `[1,2,3,4]` et `[1,5,3,0]`?"
   ]
  },
  {
   "cell_type": "markdown",
   "metadata": {},
   "source": []
  },
  {
   "cell_type": "markdown",
   "metadata": {},
   "source": [
    "**Question:** A quoi sert la ligne 5?"
   ]
  },
  {
   "cell_type": "markdown",
   "metadata": {},
   "source": []
  },
  {
   "cell_type": "markdown",
   "metadata": {},
   "source": [
    "Voici Un deuxième exemple de code:"
   ]
  },
  {
   "cell_type": "code",
   "execution_count": 5,
   "metadata": {},
   "outputs": [
    {
     "data": {
      "image/png": "[encoded data removed]",
      "text/plain": [
       "<Figure size 432x288 with 1 Axes>"
      ]
     },
     "metadata": {
      "needs_background": "light"
     },
     "output_type": "display_data"
    }
   ],
   "source": [
    "import numpy as np\n",
    "import matplotlib.pyplot as plt\n",
    "\n",
    "x=np.array([1,2,3,4])\n",
    "y=x**2\n",
    "\n",
    "plt.plot(x,y)\n",
    "plt.show()"
   ]
  },
  {
   "cell_type": "markdown",
   "metadata": {},
   "source": [
    "**Question:** que contient la variable y?"
   ]
  },
  {
   "cell_type": "markdown",
   "metadata": {},
   "source": []
  },
  {
   "cell_type": "markdown",
   "metadata": {},
   "source": [
    "**Question:** expliquer alors la ligne 7."
   ]
  },
  {
   "cell_type": "markdown",
   "metadata": {},
   "source": []
  },
  {
   "cell_type": "markdown",
   "metadata": {},
   "source": [
    "Les fonctions que nous avons tracées ne sont pas très \"lisses\".\n",
    "\n",
    "**Question:** En utilisant la fonction `np.arange` tracer la fonction cos entre $-2\\pi$ et $2\\pi$ avec un pas de $0,1$ (vous pouvez par exemple vous inspirer de [cela](http://kestrel.nmt.edu/~raymond/software/python_notes/paper004.html)). Notez que la bilbiothèque Numpy a une constante déjà prête pour le nombre $\\pi$ (à vous de trouver)."
   ]
  },
  {
   "cell_type": "code",
   "execution_count": null,
   "metadata": {},
   "outputs": [],
   "source": []
  },
  {
   "cell_type": "markdown",
   "metadata": {},
   "source": [
    "## 3) Fonction de transfert: diagrammes de Bode"
   ]
  },
  {
   "cell_type": "markdown",
   "metadata": {},
   "source": [
    "On rappelle que la fonction de transfert du circuit RC ci-dessous:\n",
    "![RC](RCcircuit.png)\n",
    "est $\\displaystyle H(f)=\\frac{1}{j\\frac{\\omega}{\\omega_0}+1}$ avec $\\omega_0=\\displaystyle\\frac{1}{RC}$.\n",
    "\n",
    "La fonctions Python d'étude des signaux utilise une autre version des fonction de transfert utilisant la **transformée de Laplace**, que vous étudierez bientôt (à moins que ce ne soit déjà fait?). Dans cette version il convient de remplacer $j\\omega$ par la variable $s$. Ainsi la fonction de transfert devient\n",
    "$$ H(s)=\\frac{1}{\\frac{1}{\\omega_0}s+1} $$\n",
    "\n",
    "Pour définir la fonction de transfert on utilise alors la fonction `TransferFunction` de la bibliothèque `scipy.signal`. \n",
    "\n",
    "Le dénominateur de la fonction de transfert $H(s)$ est\n",
    "$$ \\frac{1}{\\omega_0}s+1 $$\n",
    "donc la liste de ses coefficients est `[1/w0,1]`.<br>\n",
    "Le numérateur de la fonction de transfert est $1$ donc la liste de ses coefficients réduite à la liste `[1]`.\n",
    "\n",
    "Pour définir la fonction de transfert on invoque alors la fonction `TransferFunction` avec en arguments la liste des coefficients du numérateur puis du dénominateur:"
   ]
  },
  {
   "cell_type": "code",
   "execution_count": 43,
   "metadata": {},
   "outputs": [],
   "source": [
    "import scipy.signal as signal\n",
    "\n",
    "R=10**5\n",
    "C=10**(-6)\n",
    "w0=1/(R*C)\n",
    "\n",
    "H=signal.TransferFunction([1],[1/w0,1])"
   ]
  },
  {
   "cell_type": "markdown",
   "metadata": {},
   "source": [
    "**Question:** dans ce code quel est la valeur de la résistance et la capacité du condensateur?"
   ]
  },
  {
   "cell_type": "markdown",
   "metadata": {},
   "source": []
  },
  {
   "cell_type": "markdown",
   "metadata": {},
   "source": [
    "On peut alors facilement tracer le diagramme de Bode de cette fonction de transfert avec le code suivant:"
   ]
  },
  {
   "cell_type": "code",
   "execution_count": 45,
   "metadata": {},
   "outputs": [
    {
     "data": {
      "image/png": "[encoded data removed]",
      "text/plain": [
       "<Figure size 432x288 with 2 Axes>"
      ]
     },
     "metadata": {
      "needs_background": "light"
     },
     "output_type": "display_data"
    }
   ],
   "source": [
    "import numpy as np \n",
    "import matplotlib.pyplot as plt\n",
    "\n",
    "w=np.linspace(0.5,10**2,1000)\n",
    "w, amplitude, phase = signal.bode(H,w)\n",
    "\n",
    "plt.subplot(211)\n",
    "plt.semilogx(w, amplitude)   \n",
    "plt.ylabel('Amplitude (dB)')\n",
    "plt.grid(which='both')\n",
    "\n",
    "plt.subplot(212)\n",
    "plt.semilogx(w, phase) \n",
    "plt.xlabel('Pulsation (rad/s)')\n",
    "plt.ylabel('Phase (deg)')\n",
    "plt.grid(which='both')\n",
    "\n",
    "plt.show()"
   ]
  },
  {
   "cell_type": "markdown",
   "metadata": {},
   "source": [
    "**Question:** expliquer chaque ligne de la ligne du code ci-dessus en les commentant (modifier le code pour comprendre le role de chaque ligne et/ou consulter l'aide [ici](https://docs.scipy.org/doc/scipy/reference/signal.html))"
   ]
  },
  {
   "cell_type": "markdown",
   "metadata": {},
   "source": [
    "**Question:** on peut voir que la courbe de phase est anguleuse au début. C'est parce que la fonction `np.linspace` fournit des valeur equi-réparties pour une echelle linéaire mais pas pour une echelle logarithmique. En vous référent à l'[aide](https://numpy.org/doc/stable/reference/generated/numpy.linspace.html) de la fonction `np.linspace` chercher une fonction plus adaptée à l'échelle logarithmique et changez le code de la cellule de code ci-dessus en conséquence."
   ]
  },
  {
   "cell_type": "markdown",
   "metadata": {},
   "source": [
    "**Question (plus longue):** en regardant dans vos cours d'élec, chercher la formule de la fonction de transfert si l'on inverse la résistance et le condensateur. En reprenant les codes ci-dessus et en les modifiant, faire tracer le diagrammes de Bode d'un tel circuit."
   ]
  },
  {
   "cell_type": "code",
   "execution_count": null,
   "metadata": {},
   "outputs": [],
   "source": []
  },
  {
   "cell_type": "markdown",
   "metadata": {},
   "source": [
    "## 4) Fonction de transfert: signaux de sortie"
   ]
  },
  {
   "cell_type": "markdown",
   "metadata": {},
   "source": [
    "On peut également faire calculer les signaux de sortie par Python:"
   ]
  },
  {
   "cell_type": "code",
   "execution_count": 48,
   "metadata": {},
   "outputs": [
    {
     "data": {
      "image/png": "[encoded data removed]",
      "text/plain": [
       "<Figure size 432x288 with 1 Axes>"
      ]
     },
     "metadata": {
      "needs_background": "light"
     },
     "output_type": "display_data"
    }
   ],
   "source": [
    "import numpy as np\n",
    "import scipy.signal as signal\n",
    "import matplotlib.pyplot as plt\n",
    "\n",
    "R=10**5\n",
    "C=10**(-6)\n",
    "w0=1/(R*C)\n",
    "\n",
    "H=signal.TransferFunction([1],[1/w0,1])\n",
    "\n",
    "t=np.arange(0.1,1,0.01)\n",
    "t,Ve=signal.step(H,T=t)\n",
    "\n",
    "plt.plot(t,Ve)\n",
    "plt.show()"
   ]
  },
  {
   "cell_type": "markdown",
   "metadata": {},
   "source": [
    "**Question:** commenter chaque ligne de la cellule de code précédente pour les expliquer. Vous traduirez en particulier ce que signifie \"step\"."
   ]
  },
  {
   "cell_type": "markdown",
   "metadata": {},
   "source": [
    "**Question:** En reprenant les codes ci-dessus et en les modifiant, faire tracer la réponse à une impulsion (chercher dans l'[aide](https://docs.scipy.org/doc/scipy/reference/signal.html)). "
   ]
  },
  {
   "cell_type": "code",
   "execution_count": null,
   "metadata": {},
   "outputs": [],
   "source": []
  },
  {
   "cell_type": "markdown",
   "metadata": {},
   "source": []
  }
 ],
 "metadata": {
  "kernelspec": {
   "display_name": "Python 3",
   "language": "python",
   "name": "python3"
  },
  "language_info": {
   "codemirror_mode": {
    "name": "ipython",
    "version": 3
   },
   "file_extension": ".py",
   "mimetype": "text/x-python",
   "name": "python",
   "nbconvert_exporter": "python",
   "pygments_lexer": "ipython3",
   "version": "3.8.5"
  }
 },
 "nbformat": 4,
 "nbformat_minor": 4
}
